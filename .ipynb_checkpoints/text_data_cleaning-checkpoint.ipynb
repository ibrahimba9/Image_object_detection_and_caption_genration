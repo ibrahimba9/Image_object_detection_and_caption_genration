{
 "cells": [
  {
   "cell_type": "code",
   "execution_count": 28,
   "metadata": {},
   "outputs": [],
   "source": [
    "import pandas as pd\n",
    "import numpy as np\n",
    "import re"
   ]
  },
  {
   "cell_type": "code",
   "execution_count": 2,
   "metadata": {},
   "outputs": [],
   "source": [
    "def read_file(path_name):\n",
    "    f = open(path_name)\n",
    "    return f.read()"
   ]
  },
  {
   "cell_type": "code",
   "execution_count": 3,
   "metadata": {},
   "outputs": [],
   "source": [
    "descriptions = read_file(\"Data/Flickr8k.token.txt\")"
   ]
  },
  {
   "cell_type": "code",
   "execution_count": 9,
   "metadata": {},
   "outputs": [],
   "source": [
    "desc_list = descriptions.split(\"\\n\")"
   ]
  },
  {
   "cell_type": "code",
   "execution_count": 12,
   "metadata": {},
   "outputs": [
    {
     "data": {
      "text/plain": [
       "['1000268201_693b08cb0e.jpg#0\\tA child in a pink dress is climbing up a set of stairs in an entry way .',\n",
       " '1000268201_693b08cb0e.jpg#1\\tA girl going into a wooden building .',\n",
       " '1000268201_693b08cb0e.jpg#2\\tA little girl climbing into a wooden playhouse .',\n",
       " '1000268201_693b08cb0e.jpg#3\\tA little girl climbing the stairs to her playhouse .',\n",
       " '1000268201_693b08cb0e.jpg#4\\tA little girl in a pink dress going into a wooden cabin .']"
      ]
     },
     "execution_count": 12,
     "metadata": {},
     "output_type": "execute_result"
    }
   ],
   "source": [
    "desc_list[:5]"
   ]
  },
  {
   "cell_type": "code",
   "execution_count": 22,
   "metadata": {},
   "outputs": [],
   "source": [
    "def generate_descriptions(desc_list):\n",
    "    desc_dict = {}\n",
    "    for caption in desc_list[:-1]:\n",
    "        splitted_caption = caption.split(\"\\t\") \n",
    "        if splitted_caption[0][:-2] in desc_dict:\n",
    "            desc_dict[splitted_caption[0][:-2]].append(splitted_caption[1])\n",
    "        else:\n",
    "            desc_dict[splitted_caption[0][:-2]] = [splitted_caption[1]]\n",
    "    return desc_dict"
   ]
  },
  {
   "cell_type": "code",
   "execution_count": 53,
   "metadata": {},
   "outputs": [],
   "source": [
    "desc_dict = generate_descriptions(desc_list)"
   ]
  },
  {
   "cell_type": "code",
   "execution_count": 54,
   "metadata": {},
   "outputs": [
    {
     "data": {
      "text/plain": [
       "[('1000268201_693b08cb0e.jpg',\n",
       "  ['A child in a pink dress is climbing up a set of stairs in an entry way .',\n",
       "   'A girl going into a wooden building .',\n",
       "   'A little girl climbing into a wooden playhouse .',\n",
       "   'A little girl climbing the stairs to her playhouse .',\n",
       "   'A little girl in a pink dress going into a wooden cabin .']),\n",
       " ('1001773457_577c3a7d70.jpg',\n",
       "  ['A black dog and a spotted dog are fighting',\n",
       "   'A black dog and a tri-colored dog playing with each other on the road .',\n",
       "   'A black dog and a white dog with brown spots are staring at each other in the street .',\n",
       "   'Two dogs of different breeds looking at each other on the road .',\n",
       "   'Two dogs on pavement moving toward each other .']),\n",
       " ('1002674143_1b742ab4b8.jpg',\n",
       "  ['A little girl covered in paint sits in front of a painted rainbow with her hands in a bowl .',\n",
       "   'A little girl is sitting in front of a large painted rainbow .',\n",
       "   'A small girl in the grass plays with fingerpaints in front of a white canvas with a rainbow on it .',\n",
       "   'There is a girl with pigtails sitting in front of a rainbow painting .',\n",
       "   'Young girl with pigtails painting outside in the grass .'])]"
      ]
     },
     "execution_count": 54,
     "metadata": {},
     "output_type": "execute_result"
    }
   ],
   "source": [
    "list(desc_dict.items())[:3]"
   ]
  },
  {
   "cell_type": "code",
   "execution_count": 55,
   "metadata": {},
   "outputs": [],
   "source": [
    "def remove_special_characcters(caption):\n",
    "    \"\"\"\n",
    "        Remove all special characters and numbers from a given string.\n",
    "    \"\"\"\n",
    "    return re.sub(r\"[^a-zA-Z]+\", ' ', caption).lower()"
   ]
  },
  {
   "cell_type": "code",
   "execution_count": 56,
   "metadata": {},
   "outputs": [],
   "source": [
    "for img in desc_dict:\n",
    "    for i, caption in enumerate(desc_dict[img]):\n",
    "        desc_dict[img][i] = remove_special_characcters(caption)\n",
    "        "
   ]
  },
  {
   "cell_type": "code",
   "execution_count": 57,
   "metadata": {},
   "outputs": [
    {
     "data": {
      "text/plain": [
       "[('1000268201_693b08cb0e.jpg',\n",
       "  ['a child in a pink dress is climbing up a set of stairs in an entry way ',\n",
       "   'a girl going into a wooden building ',\n",
       "   'a little girl climbing into a wooden playhouse ',\n",
       "   'a little girl climbing the stairs to her playhouse ',\n",
       "   'a little girl in a pink dress going into a wooden cabin ']),\n",
       " ('1001773457_577c3a7d70.jpg',\n",
       "  ['a black dog and a spotted dog are fighting',\n",
       "   'a black dog and a tri colored dog playing with each other on the road ',\n",
       "   'a black dog and a white dog with brown spots are staring at each other in the street ',\n",
       "   'two dogs of different breeds looking at each other on the road ',\n",
       "   'two dogs on pavement moving toward each other ']),\n",
       " ('1002674143_1b742ab4b8.jpg',\n",
       "  ['a little girl covered in paint sits in front of a painted rainbow with her hands in a bowl ',\n",
       "   'a little girl is sitting in front of a large painted rainbow ',\n",
       "   'a small girl in the grass plays with fingerpaints in front of a white canvas with a rainbow on it ',\n",
       "   'there is a girl with pigtails sitting in front of a rainbow painting ',\n",
       "   'young girl with pigtails painting outside in the grass '])]"
      ]
     },
     "execution_count": 57,
     "metadata": {},
     "output_type": "execute_result"
    }
   ],
   "source": [
    "list(desc_dict.items())[:3]\n"
   ]
  },
  {
   "cell_type": "code",
   "execution_count": 68,
   "metadata": {},
   "outputs": [],
   "source": [
    "def extract_vocabulary(dictionnary):\n",
    "    vocab = set() #to get unique elements\n",
    "    for key in dictionnary:\n",
    "        [vocab.update(desc.split()) for desc in dictionnary[key]]\n",
    "    return vocab"
   ]
  },
  {
   "cell_type": "code",
   "execution_count": 69,
   "metadata": {},
   "outputs": [],
   "source": [
    "vocabulary = extract_vocabulary(desc_dict)"
   ]
  },
  {
   "cell_type": "code",
   "execution_count": 75,
   "metadata": {},
   "outputs": [],
   "source": [
    "def save_descriptions(desc_dict, filename):\n",
    "    lines = list()\n",
    "    for key, caption_list in desc_dict.items():\n",
    "        for caption in caption_list:\n",
    "            lines.append(key + \"\\t\" + caption)\n",
    "    text = \"\\n\".join(lines)\n",
    "    file = open(filename,\"w\")\n",
    "    file.write(text)\n",
    "    file.close()"
   ]
  },
  {
   "cell_type": "code",
   "execution_count": 76,
   "metadata": {},
   "outputs": [],
   "source": [
    "save_descriptions(desc_dict, \"clean_description.txt\")"
   ]
  },
  {
   "cell_type": "code",
   "execution_count": null,
   "metadata": {},
   "outputs": [],
   "source": []
  },
  {
   "cell_type": "code",
   "execution_count": null,
   "metadata": {},
   "outputs": [],
   "source": []
  },
  {
   "cell_type": "code",
   "execution_count": null,
   "metadata": {},
   "outputs": [],
   "source": []
  }
 ],
 "metadata": {
  "kernelspec": {
   "display_name": "Python 3",
   "language": "python",
   "name": "python3"
  },
  "language_info": {
   "codemirror_mode": {
    "name": "ipython",
    "version": 3
   },
   "file_extension": ".py",
   "mimetype": "text/x-python",
   "name": "python",
   "nbconvert_exporter": "python",
   "pygments_lexer": "ipython3",
   "version": "3.7.6"
  }
 },
 "nbformat": 4,
 "nbformat_minor": 4
}

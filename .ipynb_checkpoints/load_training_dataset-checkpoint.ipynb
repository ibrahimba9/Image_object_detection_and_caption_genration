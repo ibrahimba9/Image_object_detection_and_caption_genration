{
 "cells": [
  {
   "cell_type": "code",
   "execution_count": 78,
   "metadata": {},
   "outputs": [],
   "source": [
    "import pandas as pd\n",
    "import numpy as np\n",
    "import re\n",
    "import os\n",
    "from pickle import dump, load"
   ]
  },
  {
   "cell_type": "code",
   "execution_count": 84,
   "metadata": {},
   "outputs": [],
   "source": [
    "def load_training_photos():\n",
    "    image_names = read_file(\"Data/Flickr_8k.trainImages.txt\")\n",
    "    image_names.split(\"\\n\")\n",
    "    return image_names"
   ]
  },
  {
   "cell_type": "code",
   "execution_count": 81,
   "metadata": {},
   "outputs": [],
   "source": [
    "def get_clean_description(training_images):\n",
    "    training_desc = {}\n",
    "    descriptions = read_file(\"clean_description.txt\")\n",
    "    descriptions = descriptions.split(\"\\n\")\n",
    "    for desc in descriptions:\n",
    "        title, caption = desc.split(\"\\t\")\n",
    "        if title in training_images:\n",
    "            caption = \"<start>\" + caption + \"<end>\"\n",
    "            if title in training_desc:\n",
    "                training_desc[title].append(caption)\n",
    "            else:\n",
    "                \n",
    "                training_desc[title] = [caption]\n",
    "    return training_desc"
   ]
  },
  {
   "cell_type": "code",
   "execution_count": 82,
   "metadata": {},
   "outputs": [],
   "source": [
    "def load_features(training_images):\n",
    "    all_features = load(open(\"features.p\",\"rb\"))\n",
    "    features = {k:all_features[k] for k in training_images}\n",
    "    return features"
   ]
  },
  {
   "cell_type": "code",
   "execution_count": 85,
   "metadata": {},
   "outputs": [],
   "source": [
    "training_images = load_training_photos()"
   ]
  },
  {
   "cell_type": "code",
   "execution_count": 86,
   "metadata": {},
   "outputs": [],
   "source": [
    "training_desc = get_clean_description(training_images)"
   ]
  },
  {
   "cell_type": "code",
   "execution_count": 87,
   "metadata": {},
   "outputs": [
    {
     "data": {
      "text/plain": [
       "[('1000268201_693b08cb0e.jpg',\n",
       "  ['<start>a child in a pink dress is climbing up a set of stairs in an entry way <end>',\n",
       "   '<start>a girl going into a wooden building <end>',\n",
       "   '<start>a little girl climbing into a wooden playhouse <end>',\n",
       "   '<start>a little girl climbing the stairs to her playhouse <end>',\n",
       "   '<start>a little girl in a pink dress going into a wooden cabin <end>']),\n",
       " ('1001773457_577c3a7d70.jpg',\n",
       "  ['<start>a black dog and a spotted dog are fighting<end>',\n",
       "   '<start>a black dog and a tri colored dog playing with each other on the road <end>',\n",
       "   '<start>a black dog and a white dog with brown spots are staring at each other in the street <end>',\n",
       "   '<start>two dogs of different breeds looking at each other on the road <end>',\n",
       "   '<start>two dogs on pavement moving toward each other <end>']),\n",
       " ('1002674143_1b742ab4b8.jpg',\n",
       "  ['<start>a little girl covered in paint sits in front of a painted rainbow with her hands in a bowl <end>',\n",
       "   '<start>a little girl is sitting in front of a large painted rainbow <end>',\n",
       "   '<start>a small girl in the grass plays with fingerpaints in front of a white canvas with a rainbow on it <end>',\n",
       "   '<start>there is a girl with pigtails sitting in front of a rainbow painting <end>',\n",
       "   '<start>young girl with pigtails painting outside in the grass <end>'])]"
      ]
     },
     "execution_count": 87,
     "metadata": {},
     "output_type": "execute_result"
    }
   ],
   "source": [
    "list(training_desc.items())[:3]"
   ]
  },
  {
   "cell_type": "code",
   "execution_count": 92,
   "metadata": {},
   "outputs": [],
   "source": [
    "features = load_features(training_images.split(\"\\n\")[:-1])"
   ]
  },
  {
   "cell_type": "code",
   "execution_count": 94,
   "metadata": {},
   "outputs": [
    {
     "data": {
      "text/plain": [
       "[('2513260012_03d33305cf.jpg',\n",
       "  array([[0.        , 0.39944476, 0.00230728, ..., 0.24724662, 0.00611375,\n",
       "          0.01884155]], dtype=float32)),\n",
       " ('2903617548_d3e38d7f88.jpg',\n",
       "  array([[0.14825103, 0.0083261 , 0.10619269, ..., 0.09697448, 0.24103813,\n",
       "          0.031633  ]], dtype=float32)),\n",
       " ('3338291921_fe7ae0c8f8.jpg',\n",
       "  array([[0.3214843 , 0.        , 0.00088847, ..., 0.        , 0.04906381,\n",
       "          0.        ]], dtype=float32))]"
      ]
     },
     "execution_count": 94,
     "metadata": {},
     "output_type": "execute_result"
    }
   ],
   "source": [
    "list(features.items())[:3]"
   ]
  },
  {
   "cell_type": "code",
   "execution_count": null,
   "metadata": {},
   "outputs": [],
   "source": []
  },
  {
   "cell_type": "code",
   "execution_count": null,
   "metadata": {},
   "outputs": [],
   "source": []
  },
  {
   "cell_type": "code",
   "execution_count": null,
   "metadata": {},
   "outputs": [],
   "source": []
  },
  {
   "cell_type": "code",
   "execution_count": null,
   "metadata": {},
   "outputs": [],
   "source": []
  },
  {
   "cell_type": "code",
   "execution_count": null,
   "metadata": {},
   "outputs": [],
   "source": []
  },
  {
   "cell_type": "code",
   "execution_count": null,
   "metadata": {},
   "outputs": [],
   "source": []
  },
  {
   "cell_type": "code",
   "execution_count": null,
   "metadata": {},
   "outputs": [],
   "source": []
  },
  {
   "cell_type": "code",
   "execution_count": null,
   "metadata": {},
   "outputs": [],
   "source": []
  },
  {
   "cell_type": "code",
   "execution_count": null,
   "metadata": {},
   "outputs": [],
   "source": []
  },
  {
   "cell_type": "code",
   "execution_count": null,
   "metadata": {},
   "outputs": [],
   "source": []
  },
  {
   "cell_type": "code",
   "execution_count": null,
   "metadata": {},
   "outputs": [],
   "source": []
  },
  {
   "cell_type": "code",
   "execution_count": null,
   "metadata": {},
   "outputs": [],
   "source": []
  },
  {
   "cell_type": "code",
   "execution_count": null,
   "metadata": {},
   "outputs": [],
   "source": []
  },
  {
   "cell_type": "code",
   "execution_count": null,
   "metadata": {},
   "outputs": [],
   "source": []
  },
  {
   "cell_type": "code",
   "execution_count": null,
   "metadata": {},
   "outputs": [],
   "source": []
  },
  {
   "cell_type": "code",
   "execution_count": null,
   "metadata": {},
   "outputs": [],
   "source": []
  },
  {
   "cell_type": "code",
   "execution_count": null,
   "metadata": {},
   "outputs": [],
   "source": []
  },
  {
   "cell_type": "code",
   "execution_count": null,
   "metadata": {},
   "outputs": [],
   "source": []
  },
  {
   "cell_type": "code",
   "execution_count": null,
   "metadata": {},
   "outputs": [],
   "source": []
  }
 ],
 "metadata": {
  "kernelspec": {
   "display_name": "Python 3",
   "language": "python",
   "name": "python3"
  },
  "language_info": {
   "codemirror_mode": {
    "name": "ipython",
    "version": 3
   },
   "file_extension": ".py",
   "mimetype": "text/x-python",
   "name": "python",
   "nbconvert_exporter": "python",
   "pygments_lexer": "ipython3",
   "version": "3.7.6"
  }
 },
 "nbformat": 4,
 "nbformat_minor": 4
}
